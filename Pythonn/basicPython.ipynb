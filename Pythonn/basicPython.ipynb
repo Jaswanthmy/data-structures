{
 "cells": [
  {
   "cell_type": "code",
   "execution_count": 1,
   "metadata": {},
   "outputs": [
    {
     "name": "stdout",
     "output_type": "stream",
     "text": [
      "5\n"
     ]
    }
   ],
   "source": [
    "s = input(\"what is your age : \")\n",
    "print(s)"
   ]
  },
  {
   "cell_type": "code",
   "execution_count": 3,
   "metadata": {},
   "outputs": [
    {
     "name": "stdout",
     "output_type": "stream",
     "text": [
      "Luffy\n",
      "LUFFY\n"
     ]
    }
   ],
   "source": [
    "name = input(\"what is your name : \")\n",
    "print(name.capitalize())\n",
    "print(name.upper())"
   ]
  },
  {
   "cell_type": "code",
   "execution_count": 11,
   "metadata": {},
   "outputs": [
    {
     "name": "stdout",
     "output_type": "stream",
     "text": [
      "True 123\n"
     ]
    }
   ],
   "source": [
    "s=\"123\"\n",
    "print(s.isdecimal(),end=' ')\n",
    "s.replace('1','5')\n",
    "print( s)"
   ]
  },
  {
   "cell_type": "code",
   "execution_count": 12,
   "metadata": {},
   "outputs": [
    {
     "name": "stdout",
     "output_type": "stream",
     "text": [
      "Hello World\n"
     ]
    }
   ],
   "source": [
    "print(\"Hello World\")"
   ]
  },
  {
   "cell_type": "code",
   "execution_count": 13,
   "metadata": {},
   "outputs": [
    {
     "name": "stdout",
     "output_type": "stream",
     "text": [
      "Hello  luffy\n"
     ]
    }
   ],
   "source": [
    "name  = input(\"Enter your name? \")\n",
    "print(\"Hello \",name)"
   ]
  },
  {
   "cell_type": "code",
   "execution_count": 15,
   "metadata": {},
   "outputs": [
    {
     "name": "stdout",
     "output_type": "stream",
     "text": [
      "I LIKE CAPITAL LETTERS  GOKU\n"
     ]
    }
   ],
   "source": [
    "name  = input(\"Enter your name? \")\n",
    "print(\"I LIKE CAPITAL LETTERS \",name.upper())"
   ]
  },
  {
   "cell_type": "code",
   "execution_count": 16,
   "metadata": {},
   "outputs": [
    {
     "data": {
      "text/plain": [
       "float"
      ]
     },
     "execution_count": 16,
     "metadata": {},
     "output_type": "execute_result"
    }
   ],
   "source": [
    "s=1.5\n",
    "type(s)"
   ]
  },
  {
   "cell_type": "code",
   "execution_count": 17,
   "metadata": {},
   "outputs": [
    {
     "data": {
      "text/plain": [
       "1.5"
      ]
     },
     "execution_count": 17,
     "metadata": {},
     "output_type": "execute_result"
    }
   ],
   "source": [
    "a = -1.5\n",
    "abs(a)"
   ]
  },
  {
   "cell_type": "code",
   "execution_count": 18,
   "metadata": {},
   "outputs": [
    {
     "data": {
      "text/plain": [
       "16"
      ]
     },
     "execution_count": 18,
     "metadata": {},
     "output_type": "execute_result"
    }
   ],
   "source": [
    "pow(2,4)"
   ]
  },
  {
   "cell_type": "code",
   "execution_count": 22,
   "metadata": {},
   "outputs": [
    {
     "data": {
      "text/plain": [
       "1.5"
      ]
     },
     "execution_count": 22,
     "metadata": {},
     "output_type": "execute_result"
    }
   ],
   "source": [
    "round(1.49,1)"
   ]
  },
  {
   "cell_type": "code",
   "execution_count": 25,
   "metadata": {},
   "outputs": [
    {
     "name": "stdout",
     "output_type": "stream",
     "text": [
      "hello world1\n"
     ]
    }
   ],
   "source": [
    "s = \"hello \"\n",
    "y = \"world\"\n",
    "z=1\n",
    "print(s+y+str(z))"
   ]
  },
  {
   "cell_type": "code",
   "execution_count": 26,
   "metadata": {},
   "outputs": [
    {
     "name": "stdout",
     "output_type": "stream",
     "text": [
      "1\n"
     ]
    }
   ],
   "source": [
    "s=1\n",
    "print(f\"{s}\")"
   ]
  },
  {
   "cell_type": "code",
   "execution_count": 27,
   "metadata": {},
   "outputs": [
    {
     "name": "stdout",
     "output_type": "stream",
     "text": [
      "lbs :  136.6852\n"
     ]
    }
   ],
   "source": [
    "kg  = int(input(\"Enter No of kg's : \"))\n",
    "lb = round(kg * 2.2046,4)\n",
    "print(\"lbs : \",lb)\n"
   ]
  },
  {
   "cell_type": "code",
   "execution_count": 30,
   "metadata": {},
   "outputs": [
    {
     "name": "stdout",
     "output_type": "stream",
     "text": [
      "0.9090909090909091\n"
     ]
    }
   ],
   "source": [
    "k=5.4\n",
    "j=5\n",
    "l = 5/5.5\n",
    "#l = int(l)\n",
    "print(l)"
   ]
  },
  {
   "cell_type": "code",
   "execution_count": 32,
   "metadata": {},
   "outputs": [
    {
     "name": "stdout",
     "output_type": "stream",
     "text": [
      "Market Price is :  1230.0\n"
     ]
    }
   ],
   "source": [
    "marketPrice = int(input(\"Input Current market price : \"))\n",
    "Gender  = input(\"Enter Gender - \")\n",
    "if Gender==\"M\":\n",
    "    age = int(input(\"Enter Age : \"))\n",
    "    if age>26:\n",
    "        a = marketPrice + float(marketPrice*9/100)\n",
    "        print(\"Market Price is : \",a)\n",
    "    else:\n",
    "        a = marketPrice + float(marketPrice*23/100)\n",
    "        print(\"Market Price is : \",a)\n",
    "else:\n",
    "    sports = input(\"Is she playing Sports : \")\n",
    "    if sports == \"Y\":\n",
    "        a = marketPrice + float(marketPrice*21/100)\n",
    "        print(\"Market Price is : \",a)\n",
    "    else:\n",
    "        a = marketPrice + float(marketPrice*10/100)\n",
    "        print(\"Market Price is : \",a)"
   ]
  },
  {
   "cell_type": "code",
   "execution_count": 11,
   "metadata": {},
   "outputs": [],
   "source": [
    "import random"
   ]
  },
  {
   "cell_type": "code",
   "execution_count": 38,
   "metadata": {},
   "outputs": [
    {
     "name": "stdout",
     "output_type": "stream",
     "text": [
      "3\n"
     ]
    }
   ],
   "source": [
    "x = random.randint(2,9)\n",
    "print(x)"
   ]
  },
  {
   "cell_type": "code",
   "execution_count": 46,
   "metadata": {},
   "outputs": [
    {
     "name": "stdout",
     "output_type": "stream",
     "text": [
      "0.4217787490870166\n"
     ]
    }
   ],
   "source": [
    "x = random.uniform(0,1)\n",
    "print(x)"
   ]
  },
  {
   "cell_type": "code",
   "execution_count": 47,
   "metadata": {},
   "outputs": [
    {
     "name": "stdout",
     "output_type": "stream",
     "text": [
      "wrong : answer is 8\n"
     ]
    }
   ],
   "source": [
    "# Math Game\n",
    "i1 = random.randint(1,10)\n",
    "i2 = random.randint(1,10)\n",
    "guess  = int(input(\"Guess a value after Multiplication : \"))\n",
    "if guess == i1*i2:\n",
    "    print(\"Correct Guess\");\n",
    "else:\n",
    "    print(f\"wrong : answer is {i1*i2}\")"
   ]
  },
  {
   "cell_type": "code",
   "execution_count": 8,
   "metadata": {},
   "outputs": [
    {
     "name": "stdout",
     "output_type": "stream",
     "text": [
      "hello hi\n"
     ]
    },
    {
     "data": {
      "text/plain": [
       "['hello', 'hi']"
      ]
     },
     "execution_count": 8,
     "metadata": {},
     "output_type": "execute_result"
    }
   ],
   "source": [
    "my_list = ['hello','hi']\n",
    "print(my_list[0],my_list[-1])\n",
    "my_list.pop()\n",
    "my_list.append('hi')\n",
    "my_list"
   ]
  },
  {
   "cell_type": "code",
   "execution_count": 9,
   "metadata": {},
   "outputs": [
    {
     "data": {
      "text/plain": [
       "['he', 'is', 'hello', 'hi']"
      ]
     },
     "execution_count": 9,
     "metadata": {},
     "output_type": "execute_result"
    }
   ],
   "source": [
    "list1=['he','is']\n",
    "list1+my_list"
   ]
  },
  {
   "cell_type": "code",
   "execution_count": 12,
   "metadata": {},
   "outputs": [
    {
     "data": {
      "text/plain": [
       "'hi'"
      ]
     },
     "execution_count": 12,
     "metadata": {},
     "output_type": "execute_result"
    }
   ],
   "source": [
    "random.choice(my_list) #select random from list"
   ]
  },
  {
   "cell_type": "code",
   "execution_count": 13,
   "metadata": {},
   "outputs": [
    {
     "data": {
      "text/plain": [
       "['hello', 'hi']"
      ]
     },
     "execution_count": 13,
     "metadata": {},
     "output_type": "execute_result"
    }
   ],
   "source": [
    "# shuffle the list\n",
    "random.shuffle(my_list)\n",
    "my_list"
   ]
  },
  {
   "cell_type": "code",
   "execution_count": 15,
   "metadata": {},
   "outputs": [
    {
     "data": {
      "text/plain": [
       "'hellohi'"
      ]
     },
     "execution_count": 15,
     "metadata": {},
     "output_type": "execute_result"
    }
   ],
   "source": [
    "''.join(my_list)"
   ]
  },
  {
   "cell_type": "code",
   "execution_count": 16,
   "metadata": {},
   "outputs": [
    {
     "data": {
      "text/plain": [
       "9"
      ]
     },
     "execution_count": 16,
     "metadata": {},
     "output_type": "execute_result"
    }
   ],
   "source": [
    "s = 'hamstring'\n",
    "len(s)"
   ]
  },
  {
   "cell_type": "code",
   "execution_count": 20,
   "metadata": {},
   "outputs": [
    {
     "data": {
      "text/plain": [
       "'grhnatmis'"
      ]
     },
     "execution_count": 20,
     "metadata": {},
     "output_type": "execute_result"
    }
   ],
   "source": [
    "''.join(random.sample(s,len(s)))\n"
   ]
  },
  {
   "attachments": {},
   "cell_type": "markdown",
   "metadata": {},
   "source": [
    "# for a number list , max(),min(),sum() can be used\n",
    "\n",
    "--> Jumbled Game"
   ]
  },
  {
   "cell_type": "code",
   "execution_count": 4,
   "metadata": {},
   "outputs": [
    {
     "name": "stdout",
     "output_type": "stream",
     "text": [
      "h\n"
     ]
    }
   ],
   "source": [
    "list_of_words = ['machine','learning','data','jumbled']\n",
    "s = random.choice(list_of_words)\n",
    "s = ''.join(random.sample(s,len(s)))\n",
    "word = input(f\"Guess the word from {s} : \")\n",
    "print(word)"
   ]
  },
  {
   "attachments": {},
   "cell_type": "markdown",
   "metadata": {},
   "source": [
    "# Loops"
   ]
  },
  {
   "cell_type": "code",
   "execution_count": 27,
   "metadata": {},
   "outputs": [
    {
     "name": "stdout",
     "output_type": "stream",
     "text": [
      "0 1 2 3 4 "
     ]
    }
   ],
   "source": [
    "for i in range(0,5):\n",
    "    print(i,end=' ')"
   ]
  },
  {
   "cell_type": "code",
   "execution_count": 28,
   "metadata": {},
   "outputs": [
    {
     "name": "stdout",
     "output_type": "stream",
     "text": [
      "0 machine\n",
      "1 learning\n",
      "2 data\n",
      "3 jumbled\n"
     ]
    }
   ],
   "source": [
    "for i in range(0,len(list_of_words)):\n",
    "    print(i,list_of_words[i])"
   ]
  },
  {
   "cell_type": "code",
   "execution_count": 30,
   "metadata": {},
   "outputs": [
    {
     "name": "stdout",
     "output_type": "stream",
     "text": [
      "1 2 3 4 5 "
     ]
    }
   ],
   "source": [
    "i=0\n",
    "while i < 5:\n",
    "    i=i+1\n",
    "    print(i,end=\" \")\n"
   ]
  },
  {
   "cell_type": "code",
   "execution_count": 31,
   "metadata": {},
   "outputs": [
    {
     "name": "stdout",
     "output_type": "stream",
     "text": [
      "h\n"
     ]
    }
   ],
   "source": [
    "a = 'hello'\n",
    "b = 'h'\n",
    "if b in a:\n",
    "    print(b)"
   ]
  },
  {
   "attachments": {},
   "cell_type": "markdown",
   "metadata": {},
   "source": [
    "# Hangman Game"
   ]
  },
  {
   "cell_type": "code",
   "execution_count": 32,
   "metadata": {},
   "outputs": [
    {
     "name": "stdout",
     "output_type": "stream",
     "text": [
      "You won\n"
     ]
    }
   ],
   "source": [
    "word  = random.choice(list_of_words)\n",
    "n=0\n",
    "while n<10:\n",
    "    w = input(\"Enter a Choice letter : \")\n",
    "    if w in word:\n",
    "        print(\"You won\")\n",
    "        break\n",
    "    else:\n",
    "        n=n+1\n",
    "        print(\"Try Again\")\n",
    "if n>= 10:\n",
    "    print(\"Computer won\")"
   ]
  },
  {
   "cell_type": "code",
   "execution_count": 5,
   "metadata": {},
   "outputs": [
    {
     "name": "stdout",
     "output_type": "stream",
     "text": [
      "m a c h i n e l e a r n i n g d a t a j u m b l e d "
     ]
    }
   ],
   "source": [
    "for i in list_of_words:\n",
    "    for j in i:\n",
    "        print(j,end=\" \")"
   ]
  },
  {
   "cell_type": "code",
   "execution_count": 12,
   "metadata": {},
   "outputs": [],
   "source": [
    "def func(name):\n",
    "    print(\"hi\")"
   ]
  },
  {
   "cell_type": "code",
   "execution_count": 13,
   "metadata": {},
   "outputs": [
    {
     "name": "stdout",
     "output_type": "stream",
     "text": [
      "hi\n"
     ]
    }
   ],
   "source": [
    "#name=5\n",
    "func(name)"
   ]
  },
  {
   "attachments": {},
   "cell_type": "markdown",
   "metadata": {},
   "source": [
    "A Few Things"
   ]
  },
  {
   "cell_type": "code",
   "execution_count": 14,
   "metadata": {},
   "outputs": [
    {
     "data": {
      "text/plain": [
       "65"
      ]
     },
     "execution_count": 14,
     "metadata": {},
     "output_type": "execute_result"
    }
   ],
   "source": [
    "ord('A')"
   ]
  },
  {
   "cell_type": "code",
   "execution_count": 17,
   "metadata": {},
   "outputs": [
    {
     "data": {
      "text/plain": [
       "'A'"
      ]
     },
     "execution_count": 17,
     "metadata": {},
     "output_type": "execute_result"
    }
   ],
   "source": [
    "chr(65)"
   ]
  },
  {
   "cell_type": "code",
   "execution_count": 22,
   "metadata": {},
   "outputs": [
    {
     "name": "stdout",
     "output_type": "stream",
     "text": [
      "Khoor Zruog\n",
      "Hello World\n"
     ]
    }
   ],
   "source": [
    "def inc(k,w):\n",
    "    t=\"\"\n",
    "    for i in w:\n",
    "        if i != ' ':\n",
    "            i = chr((ord(i)+k)%26)\n",
    "            t=t+i\n",
    "        else:\n",
    "            t=t+i\n",
    "    return t;\n",
    "def dec(k,w):\n",
    "    t=\"\"\n",
    "    for i in w:\n",
    "        if i != ' ':\n",
    "            if ord(i)-k<0:\n",
    "                i = chr((ord(i)-k+26)%26)\n",
    "            else:\n",
    "                i = chr((ord(i)-k)%26)\n",
    "            t=t+i\n",
    "        else:\n",
    "            t=t+i\n",
    "    return t;\n",
    "\n",
    "k = int(input(\"Enter a Key value \"))\n",
    "w = input(\"Enter a sentence \")\n",
    "w = inc(k,w)\n",
    "print(w)\n",
    "print(dec(k,w))"
   ]
  },
  {
   "cell_type": "code",
   "execution_count": 24,
   "metadata": {},
   "outputs": [
    {
     "data": {
      "text/plain": [
       "1"
      ]
     },
     "execution_count": 24,
     "metadata": {},
     "output_type": "execute_result"
    }
   ],
   "source": [
    "my_dict = {\"hello\":1,\"hi\":2}\n",
    "my_dict[\"hello\"]"
   ]
  },
  {
   "cell_type": "code",
   "execution_count": 25,
   "metadata": {},
   "outputs": [
    {
     "name": "stdout",
     "output_type": "stream",
     "text": [
      "1\n",
      "2\n"
     ]
    }
   ],
   "source": [
    "for i in my_dict:\n",
    "    print(my_dict[i])"
   ]
  },
  {
   "cell_type": "code",
   "execution_count": 26,
   "metadata": {},
   "outputs": [
    {
     "data": {
      "text/plain": [
       "{'pen': 3, 'paper': 2}"
      ]
     },
     "execution_count": 26,
     "metadata": {},
     "output_type": "execute_result"
    }
   ],
   "source": [
    "items = ['pen','paper','pen','paper','pen']\n",
    "count = {}\n",
    "for i in items:\n",
    "    count[i] = count.get(i,0)+1\n",
    "count"
   ]
  },
  {
   "cell_type": "code",
   "execution_count": 28,
   "metadata": {},
   "outputs": [
    {
     "name": "stdout",
     "output_type": "stream",
     "text": [
      "3\n"
     ]
    }
   ],
   "source": [
    "capitals = {'india':'delhi','china':'biejing','usa':'washington','canada':'ottawa'}\n",
    "score = 0\n",
    "\n",
    "for i in range(3):\n",
    "    w = random.choice(list(capitals.keys()))\n",
    "    g = input(f\"Enter capital for {w} : \")\n",
    "    if g ==capitals[w]:\n",
    "        score=score+1\n",
    "print(score)"
   ]
  },
  {
   "cell_type": "code",
   "execution_count": 2,
   "metadata": {},
   "outputs": [],
   "source": [
    "import csv"
   ]
  },
  {
   "cell_type": "code",
   "execution_count": 3,
   "metadata": {},
   "outputs": [
    {
     "name": "stdout",
     "output_type": "stream",
     "text": [
      "146.6875\n"
     ]
    }
   ],
   "source": [
    "with open(\"cars.csv\",\"r\") as f:\n",
    "    csv_reader = csv.DictReader(f)\n",
    "    name_records = list(csv_reader)\n",
    "\n",
    "avg=0\n",
    "s=0\n",
    "for dicts in name_records:\n",
    "    avg = avg + int(dicts.get('hp',[]))\n",
    "    s=s+1\n",
    "avg=avg/s\n",
    "print(avg)"
   ]
  },
  {
   "attachments": {},
   "cell_type": "markdown",
   "metadata": {},
   "source": [
    "->LIST COMPREHENSION"
   ]
  },
  {
   "cell_type": "code",
   "execution_count": 1,
   "metadata": {},
   "outputs": [
    {
     "data": {
      "text/plain": [
       "[0, 1, 2, 3, 4, 5, 6, 7, 8, 9]"
      ]
     },
     "execution_count": 1,
     "metadata": {},
     "output_type": "execute_result"
    }
   ],
   "source": [
    "list1 = [i for i in range(0,10)]\n",
    "list1"
   ]
  },
  {
   "cell_type": "code",
   "execution_count": 3,
   "metadata": {},
   "outputs": [
    {
     "data": {
      "text/plain": [
       "[0, 2, 4, 6, 8]"
      ]
     },
     "execution_count": 3,
     "metadata": {},
     "output_type": "execute_result"
    }
   ],
   "source": [
    "list1 = [i for i in range(0,10) if i% 2==0]\n",
    "list1"
   ]
  },
  {
   "cell_type": "code",
   "execution_count": 7,
   "metadata": {},
   "outputs": [
    {
     "data": {
      "text/plain": [
       "[0, -1, 2, -3, 4, -5, 6, -7, 8, -9]"
      ]
     },
     "execution_count": 7,
     "metadata": {},
     "output_type": "execute_result"
    }
   ],
   "source": [
    "list1 = [i if i%2==0 else -i for i in range(0,10)] \n",
    "list1"
   ]
  },
  {
   "cell_type": "code",
   "execution_count": 8,
   "metadata": {},
   "outputs": [
    {
     "data": {
      "text/plain": [
       "{0: 2, 1: 3, 2: 4, 3: 5, 4: 6, 5: 7, 6: 8, 7: 9, 8: 10, 9: 11}"
      ]
     },
     "execution_count": 8,
     "metadata": {},
     "output_type": "execute_result"
    }
   ],
   "source": [
    "{i:i+2 for i in range(0,10)}"
   ]
  },
  {
   "cell_type": "code",
   "execution_count": 1,
   "metadata": {},
   "outputs": [
    {
     "data": {
      "text/plain": [
       "'HXD JAN JFNBXVN'"
      ]
     },
     "execution_count": 1,
     "metadata": {},
     "output_type": "execute_result"
    }
   ],
   "source": [
    "def encrypt(char,key):\n",
    "        return chr(ord('A')+(ord(char)-ord('A')+key)%26)\n",
    "\n",
    "s = \"you are awesome\"\n",
    "l = [encrypt(c,3) if c !=' ' else ' ' for c in s]\n",
    "''.join(l)"
   ]
  },
  {
   "cell_type": "code",
   "execution_count": 4,
   "metadata": {},
   "outputs": [],
   "source": [
    "import csv\n",
    "import matplotlib.pyplot as plt\n",
    "%matplotlib inline"
   ]
  },
  {
   "cell_type": "code",
   "execution_count": 9,
   "metadata": {},
   "outputs": [
    {
     "data": {
      "text/plain": [
       "Text(0, 0.5, 'y-axis')"
      ]
     },
     "execution_count": 9,
     "metadata": {},
     "output_type": "execute_result"
    },
    {
     "data": {
      "image/png": "[encoded data removed]",
      "text/plain": [
       "<Figure size 432x288 with 1 Axes>"
      ]
     },
     "metadata": {
      "needs_background": "light"
     },
     "output_type": "display_data"
    }
   ],
   "source": [
    "x = [1,2,3,4]\n",
    "y = [4,3,2,1]\n",
    "c = [1,2,3,4]\n",
    "fig , ax = plt.subplots()\n",
    "ax.scatter(x,y,c=c)\n",
    "ax.set_title(\"graph\")\n",
    "ax.set_xlabel(\"x-axis\")\n",
    "ax.set_ylabel(\"y-axis\")"
   ]
  },
  {
   "cell_type": "code",
   "execution_count": 21,
   "metadata": {},
   "outputs": [
    {
     "data": {
      "text/plain": [
       "(array([1., 1., 1., 1.]),\n",
       " array([1.  , 1.75, 2.5 , 3.25, 4.  ]),\n",
       " <BarContainer object of 4 artists>)"
      ]
     },
     "execution_count": 21,
     "metadata": {},
     "output_type": "execute_result"
    },
    {
     "data": {
      "image/png": "[encoded data removed]",
      "text/plain": [
       "<Figure size 432x288 with 2 Axes>"
      ]
     },
     "metadata": {
      "needs_background": "light"
     },
     "output_type": "display_data"
    }
   ],
   "source": [
    "x = [1,2,3,4]\n",
    "y = [4,3,2,1]\n",
    "fig , axs = plt.subplots(1,2,sharex='row')\n",
    "axs[0].hist(x,4)"
   ]
  },
  {
   "cell_type": "code",
   "execution_count": 23,
   "metadata": {},
   "outputs": [],
   "source": [
    "with open(\"cars.csv\",\"r\") as f:\n",
    "    csv_dicts = csv.DictReader(f)\n",
    "    car_list = list(csv_dicts)\n"
   ]
  },
  {
   "cell_type": "code",
   "execution_count": 38,
   "metadata": {},
   "outputs": [
    {
     "data": {
      "text/plain": [
       "<matplotlib.collections.PathCollection at 0x7fbf7b68f820>"
      ]
     },
     "execution_count": 38,
     "metadata": {},
     "output_type": "execute_result"
    },
    {
     "data": {
      "image/png": "[encoded data removed]",
      "text/plain": [
       "<Figure size 432x288 with 1 Axes>"
      ]
     },
     "metadata": {
      "needs_background": "light"
     },
     "output_type": "display_data"
    }
   ],
   "source": [
    "hp = [float(i['hp']) for i in car_list]\n",
    "wt = [float(i['wt']) for i in car_list]\n",
    "mpg = [round(float(i['mpg'])) for i in car_list]\n",
    "fig ,ax = plt.subplots()\n",
    "ax.scatter(hp,wt,c=mpg)"
   ]
  },
  {
   "cell_type": "code",
   "execution_count": 39,
   "metadata": {},
   "outputs": [],
   "source": [
    "import numpy as np"
   ]
  },
  {
   "cell_type": "code",
   "execution_count": 40,
   "metadata": {},
   "outputs": [
    {
     "data": {
      "text/plain": [
       "dtype('int64')"
      ]
     },
     "execution_count": 40,
     "metadata": {},
     "output_type": "execute_result"
    }
   ],
   "source": [
    "a = np.array([1,2,3,4])\n",
    "a.dtype"
   ]
  },
  {
   "cell_type": "code",
   "execution_count": 41,
   "metadata": {},
   "outputs": [
    {
     "data": {
      "text/plain": [
       "(4,)"
      ]
     },
     "execution_count": 41,
     "metadata": {},
     "output_type": "execute_result"
    }
   ],
   "source": [
    "a.shape"
   ]
  },
  {
   "cell_type": "code",
   "execution_count": 42,
   "metadata": {},
   "outputs": [
    {
     "data": {
      "text/plain": [
       "array([5, 6, 7, 8])"
      ]
     },
     "execution_count": 42,
     "metadata": {},
     "output_type": "execute_result"
    }
   ],
   "source": [
    "a1 = np.array([5,6,7,8])\n",
    "a1"
   ]
  },
  {
   "cell_type": "code",
   "execution_count": 44,
   "metadata": {},
   "outputs": [
    {
     "data": {
      "text/plain": [
       "array([ 5, 12, 21, 32])"
      ]
     },
     "execution_count": 44,
     "metadata": {},
     "output_type": "execute_result"
    }
   ],
   "source": [
    "a*a1"
   ]
  },
  {
   "cell_type": "code",
   "execution_count": 45,
   "metadata": {},
   "outputs": [],
   "source": [
    "from sklearn.linear_model import LinearRegression\n",
    "import matplotlib.pyplot as plt\n",
    "%matplotlib inline"
   ]
  },
  {
   "cell_type": "code",
   "execution_count": 64,
   "metadata": {},
   "outputs": [],
   "source": [
    "X = np.array([i for i in range(0,10)]).reshape(-1,1)\n",
    "Y = np.array([i for i in range(0,10)]).reshape(-1,1)"
   ]
  },
  {
   "cell_type": "code",
   "execution_count": 65,
   "metadata": {},
   "outputs": [],
   "source": [
    "linear_reg = LinearRegression()\n",
    "linear_reg.fit(X,Y)\n",
    "Y_pred = linear_reg.predict(X)"
   ]
  },
  {
   "cell_type": "code",
   "execution_count": 67,
   "metadata": {},
   "outputs": [
    {
     "data": {
      "text/plain": [
       "[<matplotlib.lines.Line2D at 0x7fbf73a525b0>]"
      ]
     },
     "execution_count": 67,
     "metadata": {},
     "output_type": "execute_result"
    },
    {
     "data": {
      "image/png": "[encoded data removed]",
      "text/plain": [
       "<Figure size 432x288 with 1 Axes>"
      ]
     },
     "metadata": {
      "needs_background": "light"
     },
     "output_type": "display_data"
    }
   ],
   "source": [
    "fig , ax = plt.subplots()\n",
    "ax.scatter(X,Y)\n",
    "ax.plot(X,Y_pred,c=\"r\")"
   ]
  },
  {
   "cell_type": "code",
   "execution_count": 69,
   "metadata": {},
   "outputs": [
    {
     "data": {
      "text/plain": [
       "1.0"
      ]
     },
     "execution_count": 69,
     "metadata": {},
     "output_type": "execute_result"
    }
   ],
   "source": [
    "beta = linear_reg.coef_[0][0]\n",
    "beta #slope"
   ]
  },
  {
   "cell_type": "code",
   "execution_count": 70,
   "metadata": {},
   "outputs": [
    {
     "data": {
      "text/plain": [
       "0.0"
      ]
     },
     "execution_count": 70,
     "metadata": {},
     "output_type": "execute_result"
    }
   ],
   "source": [
    "alpha  = linear_reg.intercept_[0]\n",
    "alpha #intercept"
   ]
  },
  {
   "cell_type": "code",
   "execution_count": 84,
   "metadata": {},
   "outputs": [
    {
     "data": {
      "text/plain": [
       "dict_keys(['car_name', 'reviews_count', 'fuel_type', 'engine_displacement', 'no_cylinder', 'seating_capacity', 'transmission_type', 'fuel_tank_capacity', 'body_type', 'rating', 'starting_price', 'ending_price', 'max_torque_nm', 'max_torque_rpm', 'max_power_bhp', 'max_power_rp'])"
      ]
     },
     "execution_count": 84,
     "metadata": {},
     "output_type": "execute_result"
    }
   ],
   "source": [
    "with open(\"CARS_1.csv\",\"r\") as f:\n",
    "    list_cars = list(csv.DictReader(f))\n",
    "    \n",
    "list_cars[0].keys()"
   ]
  },
  {
   "cell_type": "code",
   "execution_count": 1,
   "metadata": {},
   "outputs": [
    {
     "ename": "NameError",
     "evalue": "name 'np' is not defined",
     "output_type": "error",
     "traceback": [
      "\u001b[0;31m---------------------------------------------------------------------------\u001b[0m",
      "\u001b[0;31mNameError\u001b[0m                                 Traceback (most recent call last)",
      "\u001b[1;32m/Users/gowrijaswanth/Pythonn/basicPython.ipynb Cell 72\u001b[0m in \u001b[0;36m<cell line: 1>\u001b[0;34m()\u001b[0m\n\u001b[0;32m----> <a href='vscode-notebook-cell:/Users/gowrijaswanth/Pythonn/basicPython.ipynb#Y131sZmlsZQ%3D%3D?line=0'>1</a>\u001b[0m X \u001b[39m=\u001b[39m np\u001b[39m.\u001b[39marray([\u001b[39mround\u001b[39m(\u001b[39mfloat\u001b[39m(i[\u001b[39m'\u001b[39m\u001b[39mmax_power_bhp\u001b[39m\u001b[39m'\u001b[39m])) \u001b[39mfor\u001b[39;00m i \u001b[39min\u001b[39;00m list_cars])\u001b[39m.\u001b[39mreshape(\u001b[39m-\u001b[39m\u001b[39m1\u001b[39m,\u001b[39m1\u001b[39m)\n\u001b[1;32m      <a href='vscode-notebook-cell:/Users/gowrijaswanth/Pythonn/basicPython.ipynb#Y131sZmlsZQ%3D%3D?line=1'>2</a>\u001b[0m Y \u001b[39m=\u001b[39m np\u001b[39m.\u001b[39marray([\u001b[39mround\u001b[39m(\u001b[39mfloat\u001b[39m(i[\u001b[39m'\u001b[39m\u001b[39mmax_torque_rpm\u001b[39m\u001b[39m'\u001b[39m])) \u001b[39mfor\u001b[39;00m i \u001b[39min\u001b[39;00m list_cars])\u001b[39m.\u001b[39mreshape(\u001b[39m-\u001b[39m\u001b[39m1\u001b[39m,\u001b[39m1\u001b[39m)\n\u001b[1;32m      <a href='vscode-notebook-cell:/Users/gowrijaswanth/Pythonn/basicPython.ipynb#Y131sZmlsZQ%3D%3D?line=2'>3</a>\u001b[0m linear_reg \u001b[39m=\u001b[39m LinearRegression()\n",
      "\u001b[0;31mNameError\u001b[0m: name 'np' is not defined"
     ]
    }
   ],
   "source": [
    "\n",
    "X = np.array([round(float(i['max_power_bhp'])) for i in list_cars]).reshape(-1,1)\n",
    "Y = np.array([round(float(i['max_torque_rpm'])) for i in list_cars]).reshape(-1,1)\n",
    "linear_reg = LinearRegression()\n",
    "linear_reg.fit(X,Y)\n",
    "Y_pred = linear_reg.predict(X)\n",
    "\n",
    "fig,ax = plt.subplots()\n",
    "ax.scatter(X,Y)\n",
    "ax.plot(X,Y_pred,c=\"r\",alpha=0.25)\n",
    "\n"
   ]
  },
  {
   "cell_type": "code",
   "execution_count": 81,
   "metadata": {},
   "outputs": [],
   "source": [
    "import pandas as pd;"
   ]
  },
  {
   "cell_type": "code",
   "execution_count": 97,
   "metadata": {},
   "outputs": [
    {
     "data": {
      "text/html": [
       "<div>\n",
       "<style scoped>\n",
       "    .dataframe tbody tr th:only-of-type {\n",
       "        vertical-align: middle;\n",
       "    }\n",
       "\n",
       "    .dataframe tbody tr th {\n",
       "        vertical-align: top;\n",
       "    }\n",
       "\n",
       "    .dataframe thead th {\n",
       "        text-align: right;\n",
       "    }\n",
       "</style>\n",
       "<table border=\"1\" class=\"dataframe\">\n",
       "  <thead>\n",
       "    <tr style=\"text-align: right;\">\n",
       "      <th></th>\n",
       "      <th>reviews_count</th>\n",
       "      <th>fuel_type</th>\n",
       "      <th>engine_displacement</th>\n",
       "      <th>no_cylinder</th>\n",
       "      <th>seating_capacity</th>\n",
       "      <th>transmission_type</th>\n",
       "      <th>fuel_tank_capacity</th>\n",
       "      <th>body_type</th>\n",
       "      <th>rating</th>\n",
       "      <th>starting_price</th>\n",
       "      <th>ending_price</th>\n",
       "      <th>max_torque_nm</th>\n",
       "      <th>max_torque_rpm</th>\n",
       "      <th>max_power_bhp</th>\n",
       "      <th>max_power_rp</th>\n",
       "    </tr>\n",
       "    <tr>\n",
       "      <th>car_name</th>\n",
       "      <th></th>\n",
       "      <th></th>\n",
       "      <th></th>\n",
       "      <th></th>\n",
       "      <th></th>\n",
       "      <th></th>\n",
       "      <th></th>\n",
       "      <th></th>\n",
       "      <th></th>\n",
       "      <th></th>\n",
       "      <th></th>\n",
       "      <th></th>\n",
       "      <th></th>\n",
       "      <th></th>\n",
       "      <th></th>\n",
       "    </tr>\n",
       "  </thead>\n",
       "  <tbody>\n",
       "    <tr>\n",
       "      <th>Maruti Alto K10</th>\n",
       "      <td>51</td>\n",
       "      <td>Petrol</td>\n",
       "      <td>998</td>\n",
       "      <td>3</td>\n",
       "      <td>5.0</td>\n",
       "      <td>Automatic</td>\n",
       "      <td>27.0</td>\n",
       "      <td>Hatchback</td>\n",
       "      <td>4.5</td>\n",
       "      <td>399000</td>\n",
       "      <td>583000</td>\n",
       "      <td>89.0</td>\n",
       "      <td>3500</td>\n",
       "      <td>65.71</td>\n",
       "      <td>5500</td>\n",
       "    </tr>\n",
       "    <tr>\n",
       "      <th>Maruti Brezza</th>\n",
       "      <td>86</td>\n",
       "      <td>Petrol</td>\n",
       "      <td>1462</td>\n",
       "      <td>4</td>\n",
       "      <td>5.0</td>\n",
       "      <td>Automatic</td>\n",
       "      <td>48.0</td>\n",
       "      <td>SUV</td>\n",
       "      <td>4.5</td>\n",
       "      <td>799000</td>\n",
       "      <td>1396000</td>\n",
       "      <td>136.8</td>\n",
       "      <td>4400</td>\n",
       "      <td>101.65</td>\n",
       "      <td>6000</td>\n",
       "    </tr>\n",
       "    <tr>\n",
       "      <th>Mahindra Thar</th>\n",
       "      <td>242</td>\n",
       "      <td>Diesel</td>\n",
       "      <td>2184</td>\n",
       "      <td>4</td>\n",
       "      <td>4.0</td>\n",
       "      <td>Automatic</td>\n",
       "      <td>57.0</td>\n",
       "      <td>SUV</td>\n",
       "      <td>4.5</td>\n",
       "      <td>1353000</td>\n",
       "      <td>1603000</td>\n",
       "      <td>300.0</td>\n",
       "      <td>2800</td>\n",
       "      <td>130.00</td>\n",
       "      <td>3750</td>\n",
       "    </tr>\n",
       "    <tr>\n",
       "      <th>Mahindra XUV700</th>\n",
       "      <td>313</td>\n",
       "      <td>Diesel</td>\n",
       "      <td>2198</td>\n",
       "      <td>4</td>\n",
       "      <td>7.0</td>\n",
       "      <td>Automatic</td>\n",
       "      <td>60.0</td>\n",
       "      <td>SUV</td>\n",
       "      <td>4.5</td>\n",
       "      <td>1318000</td>\n",
       "      <td>2458000</td>\n",
       "      <td>450.0</td>\n",
       "      <td>2800</td>\n",
       "      <td>182.38</td>\n",
       "      <td>3500</td>\n",
       "    </tr>\n",
       "    <tr>\n",
       "      <th>Mahindra Scorpio-N</th>\n",
       "      <td>107</td>\n",
       "      <td>Diesel</td>\n",
       "      <td>2198</td>\n",
       "      <td>4</td>\n",
       "      <td>7.0</td>\n",
       "      <td>Automatic</td>\n",
       "      <td>57.0</td>\n",
       "      <td>SUV</td>\n",
       "      <td>4.5</td>\n",
       "      <td>1199000</td>\n",
       "      <td>2390000</td>\n",
       "      <td>400.0</td>\n",
       "      <td>2750</td>\n",
       "      <td>172.45</td>\n",
       "      <td>3500</td>\n",
       "    </tr>\n",
       "  </tbody>\n",
       "</table>\n",
       "</div>"
      ],
      "text/plain": [
       "                    reviews_count fuel_type  engine_displacement  no_cylinder  \\\n",
       "car_name                                                                        \n",
       "Maruti Alto K10                51    Petrol                  998            3   \n",
       "Maruti Brezza                  86    Petrol                 1462            4   \n",
       "Mahindra Thar                 242    Diesel                 2184            4   \n",
       "Mahindra XUV700               313    Diesel                 2198            4   \n",
       "Mahindra Scorpio-N            107    Diesel                 2198            4   \n",
       "\n",
       "                    seating_capacity transmission_type  fuel_tank_capacity  \\\n",
       "car_name                                                                     \n",
       "Maruti Alto K10                  5.0         Automatic                27.0   \n",
       "Maruti Brezza                    5.0         Automatic                48.0   \n",
       "Mahindra Thar                    4.0         Automatic                57.0   \n",
       "Mahindra XUV700                  7.0         Automatic                60.0   \n",
       "Mahindra Scorpio-N               7.0         Automatic                57.0   \n",
       "\n",
       "                    body_type  rating  starting_price  ending_price  \\\n",
       "car_name                                                              \n",
       "Maruti Alto K10     Hatchback     4.5          399000        583000   \n",
       "Maruti Brezza             SUV     4.5          799000       1396000   \n",
       "Mahindra Thar             SUV     4.5         1353000       1603000   \n",
       "Mahindra XUV700           SUV     4.5         1318000       2458000   \n",
       "Mahindra Scorpio-N        SUV     4.5         1199000       2390000   \n",
       "\n",
       "                    max_torque_nm  max_torque_rpm  max_power_bhp  max_power_rp  \n",
       "car_name                                                                        \n",
       "Maruti Alto K10              89.0            3500          65.71          5500  \n",
       "Maruti Brezza               136.8            4400         101.65          6000  \n",
       "Mahindra Thar               300.0            2800         130.00          3750  \n",
       "Mahindra XUV700             450.0            2800         182.38          3500  \n",
       "Mahindra Scorpio-N          400.0            2750         172.45          3500  "
      ]
     },
     "execution_count": 97,
     "metadata": {},
     "output_type": "execute_result"
    }
   ],
   "source": [
    "df = pd.read_csv(\"CARS_1.csv\",index_col='car_name')\n",
    "df.head()"
   ]
  },
  {
   "cell_type": "code",
   "execution_count": 90,
   "metadata": {},
   "outputs": [
    {
     "data": {
      "text/plain": [
       "118.6847290640394"
      ]
     },
     "execution_count": 90,
     "metadata": {},
     "output_type": "execute_result"
    }
   ],
   "source": [
    "df['reviews_count'].mean()"
   ]
  },
  {
   "cell_type": "code",
   "execution_count": 92,
   "metadata": {},
   "outputs": [
    {
     "name": "stdout",
     "output_type": "stream",
     "text": [
      "<class 'pandas.core.frame.DataFrame'>\n",
      "RangeIndex: 203 entries, 0 to 202\n",
      "Data columns (total 16 columns):\n",
      " #   Column               Non-Null Count  Dtype  \n",
      "---  ------               --------------  -----  \n",
      " 0   car_name             203 non-null    object \n",
      " 1   reviews_count        203 non-null    int64  \n",
      " 2   fuel_type            203 non-null    object \n",
      " 3   engine_displacement  203 non-null    int64  \n",
      " 4   no_cylinder          203 non-null    int64  \n",
      " 5   seating_capacity     202 non-null    float64\n",
      " 6   transmission_type    203 non-null    object \n",
      " 7   fuel_tank_capacity   203 non-null    float64\n",
      " 8   body_type            203 non-null    object \n",
      " 9   rating               203 non-null    float64\n",
      " 10  starting_price       203 non-null    int64  \n",
      " 11  ending_price         203 non-null    int64  \n",
      " 12  max_torque_nm        203 non-null    float64\n",
      " 13  max_torque_rpm       203 non-null    int64  \n",
      " 14  max_power_bhp        203 non-null    float64\n",
      " 15  max_power_rp         203 non-null    int64  \n",
      "dtypes: float64(5), int64(7), object(4)\n",
      "memory usage: 25.5+ KB\n"
     ]
    }
   ],
   "source": [
    "df.info()"
   ]
  },
  {
   "cell_type": "code",
   "execution_count": 98,
   "metadata": {},
   "outputs": [
    {
     "data": {
      "text/html": [
       "<div>\n",
       "<style scoped>\n",
       "    .dataframe tbody tr th:only-of-type {\n",
       "        vertical-align: middle;\n",
       "    }\n",
       "\n",
       "    .dataframe tbody tr th {\n",
       "        vertical-align: top;\n",
       "    }\n",
       "\n",
       "    .dataframe thead th {\n",
       "        text-align: right;\n",
       "    }\n",
       "</style>\n",
       "<table border=\"1\" class=\"dataframe\">\n",
       "  <thead>\n",
       "    <tr style=\"text-align: right;\">\n",
       "      <th></th>\n",
       "      <th>reviews_count</th>\n",
       "      <th>engine_displacement</th>\n",
       "      <th>no_cylinder</th>\n",
       "      <th>seating_capacity</th>\n",
       "      <th>fuel_tank_capacity</th>\n",
       "      <th>rating</th>\n",
       "      <th>starting_price</th>\n",
       "      <th>ending_price</th>\n",
       "      <th>max_torque_nm</th>\n",
       "      <th>max_torque_rpm</th>\n",
       "      <th>max_power_bhp</th>\n",
       "      <th>max_power_rp</th>\n",
       "    </tr>\n",
       "    <tr>\n",
       "      <th>car_name</th>\n",
       "      <th></th>\n",
       "      <th></th>\n",
       "      <th></th>\n",
       "      <th></th>\n",
       "      <th></th>\n",
       "      <th></th>\n",
       "      <th></th>\n",
       "      <th></th>\n",
       "      <th></th>\n",
       "      <th></th>\n",
       "      <th></th>\n",
       "      <th></th>\n",
       "    </tr>\n",
       "  </thead>\n",
       "  <tbody>\n",
       "    <tr>\n",
       "      <th>Aston Martin DBX</th>\n",
       "      <td>5.0</td>\n",
       "      <td>3982.0</td>\n",
       "      <td>8.0</td>\n",
       "      <td>5.0</td>\n",
       "      <td>85.0</td>\n",
       "      <td>4.5</td>\n",
       "      <td>38200000.0</td>\n",
       "      <td>38200000.0</td>\n",
       "      <td>700.0</td>\n",
       "      <td>5000.0</td>\n",
       "      <td>542.00</td>\n",
       "      <td>6500.0</td>\n",
       "    </tr>\n",
       "    <tr>\n",
       "      <th>Aston Martin Vantage</th>\n",
       "      <td>3.0</td>\n",
       "      <td>3998.0</td>\n",
       "      <td>8.0</td>\n",
       "      <td>2.0</td>\n",
       "      <td>73.0</td>\n",
       "      <td>3.5</td>\n",
       "      <td>9950000.0</td>\n",
       "      <td>9950000.0</td>\n",
       "      <td>675.0</td>\n",
       "      <td>5000.0</td>\n",
       "      <td>502.88</td>\n",
       "      <td>6000.0</td>\n",
       "    </tr>\n",
       "    <tr>\n",
       "      <th>Audi A4</th>\n",
       "      <td>23.0</td>\n",
       "      <td>1998.0</td>\n",
       "      <td>4.0</td>\n",
       "      <td>5.0</td>\n",
       "      <td>54.0</td>\n",
       "      <td>4.5</td>\n",
       "      <td>4312000.0</td>\n",
       "      <td>4997000.0</td>\n",
       "      <td>320.0</td>\n",
       "      <td>4200.0</td>\n",
       "      <td>187.74</td>\n",
       "      <td>6000.0</td>\n",
       "    </tr>\n",
       "    <tr>\n",
       "      <th>Audi A6</th>\n",
       "      <td>19.0</td>\n",
       "      <td>1984.0</td>\n",
       "      <td>4.0</td>\n",
       "      <td>5.0</td>\n",
       "      <td>73.0</td>\n",
       "      <td>4.5</td>\n",
       "      <td>5999000.0</td>\n",
       "      <td>6599000.0</td>\n",
       "      <td>370.0</td>\n",
       "      <td>4500.0</td>\n",
       "      <td>241.30</td>\n",
       "      <td>6500.0</td>\n",
       "    </tr>\n",
       "    <tr>\n",
       "      <th>Audi Q2</th>\n",
       "      <td>10.0</td>\n",
       "      <td>1984.0</td>\n",
       "      <td>4.0</td>\n",
       "      <td>5.0</td>\n",
       "      <td>55.0</td>\n",
       "      <td>4.5</td>\n",
       "      <td>3499000.0</td>\n",
       "      <td>4889000.0</td>\n",
       "      <td>320.0</td>\n",
       "      <td>4180.0</td>\n",
       "      <td>187.74</td>\n",
       "      <td>6000.0</td>\n",
       "    </tr>\n",
       "    <tr>\n",
       "      <th>...</th>\n",
       "      <td>...</td>\n",
       "      <td>...</td>\n",
       "      <td>...</td>\n",
       "      <td>...</td>\n",
       "      <td>...</td>\n",
       "      <td>...</td>\n",
       "      <td>...</td>\n",
       "      <td>...</td>\n",
       "      <td>...</td>\n",
       "      <td>...</td>\n",
       "      <td>...</td>\n",
       "      <td>...</td>\n",
       "    </tr>\n",
       "    <tr>\n",
       "      <th>Volvo S60</th>\n",
       "      <td>7.0</td>\n",
       "      <td>1969.0</td>\n",
       "      <td>4.0</td>\n",
       "      <td>5.0</td>\n",
       "      <td>0.0</td>\n",
       "      <td>4.5</td>\n",
       "      <td>4590000.0</td>\n",
       "      <td>4590000.0</td>\n",
       "      <td>300.0</td>\n",
       "      <td>0.0</td>\n",
       "      <td>190.00</td>\n",
       "      <td>0.0</td>\n",
       "    </tr>\n",
       "    <tr>\n",
       "      <th>Volvo S90</th>\n",
       "      <td>8.0</td>\n",
       "      <td>1969.0</td>\n",
       "      <td>4.0</td>\n",
       "      <td>5.0</td>\n",
       "      <td>60.0</td>\n",
       "      <td>4.5</td>\n",
       "      <td>6590000.0</td>\n",
       "      <td>6590000.0</td>\n",
       "      <td>350.0</td>\n",
       "      <td>0.0</td>\n",
       "      <td>246.58</td>\n",
       "      <td>0.0</td>\n",
       "    </tr>\n",
       "    <tr>\n",
       "      <th>Volvo XC40</th>\n",
       "      <td>20.0</td>\n",
       "      <td>1969.0</td>\n",
       "      <td>4.0</td>\n",
       "      <td>5.0</td>\n",
       "      <td>54.0</td>\n",
       "      <td>4.5</td>\n",
       "      <td>4450000.0</td>\n",
       "      <td>4450000.0</td>\n",
       "      <td>300.0</td>\n",
       "      <td>0.0</td>\n",
       "      <td>187.40</td>\n",
       "      <td>0.0</td>\n",
       "    </tr>\n",
       "    <tr>\n",
       "      <th>Volvo XC60</th>\n",
       "      <td>24.0</td>\n",
       "      <td>1998.0</td>\n",
       "      <td>5.0</td>\n",
       "      <td>5.0</td>\n",
       "      <td>70.0</td>\n",
       "      <td>4.5</td>\n",
       "      <td>6590000.0</td>\n",
       "      <td>6590000.0</td>\n",
       "      <td>440.0</td>\n",
       "      <td>3000.0</td>\n",
       "      <td>246.74</td>\n",
       "      <td>4000.0</td>\n",
       "    </tr>\n",
       "    <tr>\n",
       "      <th>Volvo XC90</th>\n",
       "      <td>35.0</td>\n",
       "      <td>1969.0</td>\n",
       "      <td>4.0</td>\n",
       "      <td>7.0</td>\n",
       "      <td>68.0</td>\n",
       "      <td>4.5</td>\n",
       "      <td>9390000.0</td>\n",
       "      <td>9665000.0</td>\n",
       "      <td>640.0</td>\n",
       "      <td>1740.0</td>\n",
       "      <td>400.00</td>\n",
       "      <td>0.0</td>\n",
       "    </tr>\n",
       "  </tbody>\n",
       "</table>\n",
       "<p>199 rows × 12 columns</p>\n",
       "</div>"
      ],
      "text/plain": [
       "                      reviews_count  engine_displacement  no_cylinder  \\\n",
       "car_name                                                                \n",
       "Aston Martin DBX                5.0               3982.0          8.0   \n",
       "Aston Martin Vantage            3.0               3998.0          8.0   \n",
       "Audi A4                        23.0               1998.0          4.0   \n",
       "Audi A6                        19.0               1984.0          4.0   \n",
       "Audi Q2                        10.0               1984.0          4.0   \n",
       "...                             ...                  ...          ...   \n",
       "Volvo S60                       7.0               1969.0          4.0   \n",
       "Volvo S90                       8.0               1969.0          4.0   \n",
       "Volvo XC40                     20.0               1969.0          4.0   \n",
       "Volvo XC60                     24.0               1998.0          5.0   \n",
       "Volvo XC90                     35.0               1969.0          4.0   \n",
       "\n",
       "                      seating_capacity  fuel_tank_capacity  rating  \\\n",
       "car_name                                                             \n",
       "Aston Martin DBX                   5.0                85.0     4.5   \n",
       "Aston Martin Vantage               2.0                73.0     3.5   \n",
       "Audi A4                            5.0                54.0     4.5   \n",
       "Audi A6                            5.0                73.0     4.5   \n",
       "Audi Q2                            5.0                55.0     4.5   \n",
       "...                                ...                 ...     ...   \n",
       "Volvo S60                          5.0                 0.0     4.5   \n",
       "Volvo S90                          5.0                60.0     4.5   \n",
       "Volvo XC40                         5.0                54.0     4.5   \n",
       "Volvo XC60                         5.0                70.0     4.5   \n",
       "Volvo XC90                         7.0                68.0     4.5   \n",
       "\n",
       "                      starting_price  ending_price  max_torque_nm  \\\n",
       "car_name                                                            \n",
       "Aston Martin DBX          38200000.0    38200000.0          700.0   \n",
       "Aston Martin Vantage       9950000.0     9950000.0          675.0   \n",
       "Audi A4                    4312000.0     4997000.0          320.0   \n",
       "Audi A6                    5999000.0     6599000.0          370.0   \n",
       "Audi Q2                    3499000.0     4889000.0          320.0   \n",
       "...                              ...           ...            ...   \n",
       "Volvo S60                  4590000.0     4590000.0          300.0   \n",
       "Volvo S90                  6590000.0     6590000.0          350.0   \n",
       "Volvo XC40                 4450000.0     4450000.0          300.0   \n",
       "Volvo XC60                 6590000.0     6590000.0          440.0   \n",
       "Volvo XC90                 9390000.0     9665000.0          640.0   \n",
       "\n",
       "                      max_torque_rpm  max_power_bhp  max_power_rp  \n",
       "car_name                                                           \n",
       "Aston Martin DBX              5000.0         542.00        6500.0  \n",
       "Aston Martin Vantage          5000.0         502.88        6000.0  \n",
       "Audi A4                       4200.0         187.74        6000.0  \n",
       "Audi A6                       4500.0         241.30        6500.0  \n",
       "Audi Q2                       4180.0         187.74        6000.0  \n",
       "...                              ...            ...           ...  \n",
       "Volvo S60                        0.0         190.00           0.0  \n",
       "Volvo S90                        0.0         246.58           0.0  \n",
       "Volvo XC40                       0.0         187.40           0.0  \n",
       "Volvo XC60                    3000.0         246.74        4000.0  \n",
       "Volvo XC90                    1740.0         400.00           0.0  \n",
       "\n",
       "[199 rows x 12 columns]"
      ]
     },
     "execution_count": 98,
     "metadata": {},
     "output_type": "execute_result"
    }
   ],
   "source": [
    "df.groupby('car_name').mean()"
   ]
  },
  {
   "cell_type": "code",
   "execution_count": 99,
   "metadata": {},
   "outputs": [
    {
     "data": {
      "text/plain": [
       "reviews_count            int64\n",
       "fuel_type               object\n",
       "engine_displacement      int64\n",
       "no_cylinder              int64\n",
       "seating_capacity       float64\n",
       "transmission_type       object\n",
       "fuel_tank_capacity     float64\n",
       "body_type               object\n",
       "rating                 float64\n",
       "starting_price           int64\n",
       "ending_price             int64\n",
       "max_torque_nm          float64\n",
       "max_torque_rpm           int64\n",
       "max_power_bhp          float64\n",
       "max_power_rp             int64\n",
       "dtype: object"
      ]
     },
     "execution_count": 99,
     "metadata": {},
     "output_type": "execute_result"
    }
   ],
   "source": [
    "df.dtypes"
   ]
  },
  {
   "cell_type": "code",
   "execution_count": 108,
   "metadata": {},
   "outputs": [
    {
     "data": {
      "text/html": [
       "<div>\n",
       "<style scoped>\n",
       "    .dataframe tbody tr th:only-of-type {\n",
       "        vertical-align: middle;\n",
       "    }\n",
       "\n",
       "    .dataframe tbody tr th {\n",
       "        vertical-align: top;\n",
       "    }\n",
       "\n",
       "    .dataframe thead th {\n",
       "        text-align: right;\n",
       "    }\n",
       "</style>\n",
       "<table border=\"1\" class=\"dataframe\">\n",
       "  <thead>\n",
       "    <tr style=\"text-align: right;\">\n",
       "      <th></th>\n",
       "      <th>Sales rep</th>\n",
       "      <th>Item</th>\n",
       "      <th>Price</th>\n",
       "      <th>Quantity</th>\n",
       "      <th>Sale</th>\n",
       "    </tr>\n",
       "    <tr>\n",
       "      <th>Date</th>\n",
       "      <th></th>\n",
       "      <th></th>\n",
       "      <th></th>\n",
       "      <th></th>\n",
       "      <th></th>\n",
       "    </tr>\n",
       "  </thead>\n",
       "  <tbody>\n",
       "    <tr>\n",
       "      <th>2020-05-31</th>\n",
       "      <td>Mia</td>\n",
       "      <td>Markers</td>\n",
       "      <td>4</td>\n",
       "      <td>1</td>\n",
       "      <td>4</td>\n",
       "    </tr>\n",
       "    <tr>\n",
       "      <th>2020-02-01</th>\n",
       "      <td>Mia</td>\n",
       "      <td>Desk chair</td>\n",
       "      <td>199</td>\n",
       "      <td>2</td>\n",
       "      <td>398</td>\n",
       "    </tr>\n",
       "    <tr>\n",
       "      <th>2020-09-21</th>\n",
       "      <td>Oliver</td>\n",
       "      <td>Table</td>\n",
       "      <td>1099</td>\n",
       "      <td>2</td>\n",
       "      <td>2198</td>\n",
       "    </tr>\n",
       "    <tr>\n",
       "      <th>2020-07-15</th>\n",
       "      <td>Charlotte</td>\n",
       "      <td>Desk pad</td>\n",
       "      <td>9</td>\n",
       "      <td>2</td>\n",
       "      <td>18</td>\n",
       "    </tr>\n",
       "    <tr>\n",
       "      <th>2020-05-27</th>\n",
       "      <td>Emma</td>\n",
       "      <td>Book</td>\n",
       "      <td>12</td>\n",
       "      <td>1</td>\n",
       "      <td>12</td>\n",
       "    </tr>\n",
       "  </tbody>\n",
       "</table>\n",
       "</div>"
      ],
      "text/plain": [
       "            Sales rep        Item  Price  Quantity  Sale\n",
       "Date                                                    \n",
       "2020-05-31        Mia     Markers      4         1     4\n",
       "2020-02-01        Mia  Desk chair    199         2   398\n",
       "2020-09-21     Oliver       Table   1099         2  2198\n",
       "2020-07-15  Charlotte    Desk pad      9         2    18\n",
       "2020-05-27       Emma        Book     12         1    12"
      ]
     },
     "execution_count": 108,
     "metadata": {},
     "output_type": "execute_result"
    }
   ],
   "source": [
    "df = pd.read_csv(\"sales.csv\",delimiter=';',parse_dates=True,index_col='Date')\n",
    "df.head()"
   ]
  },
  {
   "cell_type": "code",
   "execution_count": 111,
   "metadata": {},
   "outputs": [
    {
     "data": {
      "text/html": [
       "<div>\n",
       "<style scoped>\n",
       "    .dataframe tbody tr th:only-of-type {\n",
       "        vertical-align: middle;\n",
       "    }\n",
       "\n",
       "    .dataframe tbody tr th {\n",
       "        vertical-align: top;\n",
       "    }\n",
       "\n",
       "    .dataframe thead th {\n",
       "        text-align: right;\n",
       "    }\n",
       "</style>\n",
       "<table border=\"1\" class=\"dataframe\">\n",
       "  <thead>\n",
       "    <tr style=\"text-align: right;\">\n",
       "      <th></th>\n",
       "      <th>Price</th>\n",
       "      <th>Quantity</th>\n",
       "      <th>Sale</th>\n",
       "    </tr>\n",
       "    <tr>\n",
       "      <th>Sales rep</th>\n",
       "      <th></th>\n",
       "      <th></th>\n",
       "      <th></th>\n",
       "    </tr>\n",
       "  </thead>\n",
       "  <tbody>\n",
       "    <tr>\n",
       "      <th>Charlotte</th>\n",
       "      <td>25082</td>\n",
       "      <td>315</td>\n",
       "      <td>74599</td>\n",
       "    </tr>\n",
       "    <tr>\n",
       "      <th>Emma</th>\n",
       "      <td>25241</td>\n",
       "      <td>342</td>\n",
       "      <td>65867</td>\n",
       "    </tr>\n",
       "    <tr>\n",
       "      <th>Ethan</th>\n",
       "      <td>14114</td>\n",
       "      <td>291</td>\n",
       "      <td>40970</td>\n",
       "    </tr>\n",
       "    <tr>\n",
       "      <th>Liam</th>\n",
       "      <td>23534</td>\n",
       "      <td>328</td>\n",
       "      <td>66989</td>\n",
       "    </tr>\n",
       "    <tr>\n",
       "      <th>Mia</th>\n",
       "      <td>28641</td>\n",
       "      <td>346</td>\n",
       "      <td>88199</td>\n",
       "    </tr>\n",
       "    <tr>\n",
       "      <th>Noah</th>\n",
       "      <td>28310</td>\n",
       "      <td>333</td>\n",
       "      <td>78575</td>\n",
       "    </tr>\n",
       "    <tr>\n",
       "      <th>Oliver</th>\n",
       "      <td>32089</td>\n",
       "      <td>342</td>\n",
       "      <td>89355</td>\n",
       "    </tr>\n",
       "    <tr>\n",
       "      <th>Sophia</th>\n",
       "      <td>30735</td>\n",
       "      <td>335</td>\n",
       "      <td>103480</td>\n",
       "    </tr>\n",
       "    <tr>\n",
       "      <th>William</th>\n",
       "      <td>27204</td>\n",
       "      <td>326</td>\n",
       "      <td>80400</td>\n",
       "    </tr>\n",
       "  </tbody>\n",
       "</table>\n",
       "</div>"
      ],
      "text/plain": [
       "           Price  Quantity    Sale\n",
       "Sales rep                         \n",
       "Charlotte  25082       315   74599\n",
       "Emma       25241       342   65867\n",
       "Ethan      14114       291   40970\n",
       "Liam       23534       328   66989\n",
       "Mia        28641       346   88199\n",
       "Noah       28310       333   78575\n",
       "Oliver     32089       342   89355\n",
       "Sophia     30735       335  103480\n",
       "William    27204       326   80400"
      ]
     },
     "execution_count": 111,
     "metadata": {},
     "output_type": "execute_result"
    }
   ],
   "source": [
    "temp = df.groupby('Sales rep').sum()\n",
    "temp"
   ]
  },
  {
   "cell_type": "code",
   "execution_count": 115,
   "metadata": {},
   "outputs": [],
   "source": [
    "t = df.groupby(pd.Grouper(freq='M')).mean()"
   ]
  },
  {
   "cell_type": "code",
   "execution_count": 116,
   "metadata": {},
   "outputs": [
    {
     "data": {
      "text/html": [
       "<div>\n",
       "<style scoped>\n",
       "    .dataframe tbody tr th:only-of-type {\n",
       "        vertical-align: middle;\n",
       "    }\n",
       "\n",
       "    .dataframe tbody tr th {\n",
       "        vertical-align: top;\n",
       "    }\n",
       "\n",
       "    .dataframe thead th {\n",
       "        text-align: right;\n",
       "    }\n",
       "</style>\n",
       "<table border=\"1\" class=\"dataframe\">\n",
       "  <thead>\n",
       "    <tr style=\"text-align: right;\">\n",
       "      <th></th>\n",
       "      <th>Price</th>\n",
       "      <th>Quantity</th>\n",
       "      <th>Sale</th>\n",
       "    </tr>\n",
       "    <tr>\n",
       "      <th>Date</th>\n",
       "      <th></th>\n",
       "      <th></th>\n",
       "      <th></th>\n",
       "    </tr>\n",
       "  </thead>\n",
       "  <tbody>\n",
       "    <tr>\n",
       "      <th>January</th>\n",
       "      <td>241.440860</td>\n",
       "      <td>3.225806</td>\n",
       "      <td>752.580645</td>\n",
       "    </tr>\n",
       "    <tr>\n",
       "      <th>February</th>\n",
       "      <td>234.013158</td>\n",
       "      <td>2.894737</td>\n",
       "      <td>682.197368</td>\n",
       "    </tr>\n",
       "    <tr>\n",
       "      <th>March</th>\n",
       "      <td>260.813953</td>\n",
       "      <td>2.941860</td>\n",
       "      <td>784.883721</td>\n",
       "    </tr>\n",
       "    <tr>\n",
       "      <th>April</th>\n",
       "      <td>278.706667</td>\n",
       "      <td>2.973333</td>\n",
       "      <td>778.680000</td>\n",
       "    </tr>\n",
       "    <tr>\n",
       "      <th>May</th>\n",
       "      <td>199.373333</td>\n",
       "      <td>3.000000</td>\n",
       "      <td>537.586667</td>\n",
       "    </tr>\n",
       "    <tr>\n",
       "      <th>June</th>\n",
       "      <td>227.387097</td>\n",
       "      <td>2.784946</td>\n",
       "      <td>638.677419</td>\n",
       "    </tr>\n",
       "    <tr>\n",
       "      <th>July</th>\n",
       "      <td>297.987654</td>\n",
       "      <td>2.876543</td>\n",
       "      <td>793.222222</td>\n",
       "    </tr>\n",
       "    <tr>\n",
       "      <th>August</th>\n",
       "      <td>202.457831</td>\n",
       "      <td>3.012048</td>\n",
       "      <td>621.337349</td>\n",
       "    </tr>\n",
       "    <tr>\n",
       "      <th>September</th>\n",
       "      <td>224.500000</td>\n",
       "      <td>3.150000</td>\n",
       "      <td>695.825000</td>\n",
       "    </tr>\n",
       "    <tr>\n",
       "      <th>October</th>\n",
       "      <td>201.734177</td>\n",
       "      <td>2.797468</td>\n",
       "      <td>634.088608</td>\n",
       "    </tr>\n",
       "    <tr>\n",
       "      <th>November</th>\n",
       "      <td>225.282353</td>\n",
       "      <td>2.858824</td>\n",
       "      <td>675.976471</td>\n",
       "    </tr>\n",
       "    <tr>\n",
       "      <th>December</th>\n",
       "      <td>226.500000</td>\n",
       "      <td>2.968085</td>\n",
       "      <td>658.946809</td>\n",
       "    </tr>\n",
       "  </tbody>\n",
       "</table>\n",
       "</div>"
      ],
      "text/plain": [
       "                Price  Quantity        Sale\n",
       "Date                                       \n",
       "January    241.440860  3.225806  752.580645\n",
       "February   234.013158  2.894737  682.197368\n",
       "March      260.813953  2.941860  784.883721\n",
       "April      278.706667  2.973333  778.680000\n",
       "May        199.373333  3.000000  537.586667\n",
       "June       227.387097  2.784946  638.677419\n",
       "July       297.987654  2.876543  793.222222\n",
       "August     202.457831  3.012048  621.337349\n",
       "September  224.500000  3.150000  695.825000\n",
       "October    201.734177  2.797468  634.088608\n",
       "November   225.282353  2.858824  675.976471\n",
       "December   226.500000  2.968085  658.946809"
      ]
     },
     "execution_count": 116,
     "metadata": {},
     "output_type": "execute_result"
    }
   ],
   "source": [
    "t.index = t.index.month_name()\n",
    "t"
   ]
  },
  {
   "cell_type": "code",
   "execution_count": null,
   "metadata": {},
   "outputs": [],
   "source": []
  }
 ],
 "metadata": {
  "kernelspec": {
   "display_name": "base",
   "language": "python",
   "name": "python3"
  },
  "language_info": {
   "codemirror_mode": {
    "name": "ipython",
    "version": 3
   },
   "file_extension": ".py",
   "mimetype": "text/x-python",
   "name": "python",
   "nbconvert_exporter": "python",
   "pygments_lexer": "ipython3",
   "version": "3.9.12"
  },
  "orig_nbformat": 4,
  "vscode": {
   "interpreter": {
    "hash": "21a17c05acbd2597ff56c9addf2197b35fa5f294d7dd4b6fe78510ec86225ada"
   }
  }
 },
 "nbformat": 4,
 "nbformat_minor": 2
}
